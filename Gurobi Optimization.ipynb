{
 "cells": [
  {
   "cell_type": "code",
   "execution_count": 1,
   "metadata": {},
   "outputs": [],
   "source": [
    "# Importing gurobi library\n",
    "from gurobipy import *"
   ]
  },
  {
   "cell_type": "code",
   "execution_count": 2,
   "metadata": {},
   "outputs": [],
   "source": [
    "# Doctors_part1 and Patients_part1 are the lists containing 2 doctors and 2 patients for the part 1 of the assignment\n",
    "Doctors_part1 = ['D4', 'D5']\n",
    "Patients_part1 = ['P1', 'P2']"
   ]
  },
  {
   "cell_type": "code",
   "execution_count": 3,
   "metadata": {},
   "outputs": [],
   "source": [
    "# Multidict function defines the possible time taken by doctors in diagnosing each patient\n",
    "combinations_part1, ms_part1 = multidict({\n",
    "\t('D4', 'P1'): 130,\n",
    "\t('D4', 'P2'): 95,\n",
    "\t('D5', 'P1'): 118,\n",
    "\t('D5', 'P2'): 83\n",
    "})"
   ]
  },
  {
   "cell_type": "code",
   "execution_count": 4,
   "metadata": {},
   "outputs": [
    {
     "name": "stdout",
     "output_type": "stream",
     "text": [
      "Using license file C:\\Users\\khushalpt\\gurobi.lic\n",
      "Academic license - for non-commercial use only\n"
     ]
    }
   ],
   "source": [
    "# Declaring and intialising the model that will generate an empty model 'm' and takes string 'RAP' model name as its argument\n",
    "m_part1 = Model('RAP_Part1')"
   ]
  },
  {
   "cell_type": "code",
   "execution_count": 5,
   "metadata": {},
   "outputs": [],
   "source": [
    "# Creating the decision variables for the RAP model\n",
    "x = m_part1.addVars(combinations_part1, name=\"assign\")"
   ]
  },
  {
   "cell_type": "code",
   "execution_count": 6,
   "metadata": {},
   "outputs": [],
   "source": [
    "# Creating the Patient constraints where each patient must have one doctor\n",
    "Patients_Constraints_part1 = m_part1.addConstrs((x.sum('*',j) == 1 for j in Patients_part1), 'patient')"
   ]
  },
  {
   "cell_type": "code",
   "execution_count": 7,
   "metadata": {},
   "outputs": [],
   "source": [
    "# Creating doctor constraints where each doctor must be provided one patient\n",
    "Doctors_Constraints_part1 = m_part1.addConstrs((x.sum(r,'*') == 1 for r in Doctors_part1), 'doctor')"
   ]
  },
  {
   "cell_type": "code",
   "execution_count": 8,
   "metadata": {},
   "outputs": [],
   "source": [
    "# The model objective is to assign a patient to a doctor so that time taken to treat a patient is minimzed \n",
    "m_part1.setObjective(x.prod(ms_part1), GRB.MINIMIZE)"
   ]
  },
  {
   "cell_type": "code",
   "execution_count": 9,
   "metadata": {},
   "outputs": [
    {
     "name": "stdout",
     "output_type": "stream",
     "text": [
      "Gurobi Optimizer version 9.0.2 build v9.0.2rc0 (win64)\n",
      "Optimize a model with 4 rows, 4 columns and 8 nonzeros\n",
      "Model fingerprint: 0x558e7b16\n",
      "Coefficient statistics:\n",
      "  Matrix range     [1e+00, 1e+00]\n",
      "  Objective range  [8e+01, 1e+02]\n",
      "  Bounds range     [0e+00, 0e+00]\n",
      "  RHS range        [1e+00, 1e+00]\n",
      "Presolve removed 4 rows and 4 columns\n",
      "Presolve time: 0.03s\n",
      "Presolve: All rows and columns removed\n",
      "Iteration    Objective       Primal Inf.    Dual Inf.      Time\n",
      "       0    2.1300000e+02   0.000000e+00   0.000000e+00      0s\n",
      "\n",
      "Solved in 0 iterations and 0.05 seconds\n",
      "Optimal objective  2.130000000e+02\n"
     ]
    }
   ],
   "source": [
    "# running the optimization engine\n",
    "m_part1.optimize()"
   ]
  },
  {
   "cell_type": "code",
   "execution_count": 10,
   "metadata": {},
   "outputs": [
    {
     "name": "stdout",
     "output_type": "stream",
     "text": [
      "assign[D4,P1] 1.0\n",
      "assign[D5,P2] 1.0\n",
      "Total Minutes taken 213.0\n"
     ]
    }
   ],
   "source": [
    "# Displaying the optimal values of decision variables\n",
    "for v in m_part1.getVars():\n",
    "    if (abs(v.x) > 1e-6):\n",
    "        print(v.varName, v.x)\n",
    "\n",
    "# Displaying the total minutes taken\n",
    "print('Total Minutes taken', m_part1.objVal)"
   ]
  },
  {
   "cell_type": "code",
   "execution_count": 11,
   "metadata": {},
   "outputs": [],
   "source": [
    "# Doctors and Patients are the lists containing 6 doctors and 6 patients\n",
    "Doctors = ['D1', 'D2', 'D3', 'D4', 'D5', 'D6']\n",
    "Patients = ['P1', 'P2', 'P3', 'P4', 'P5', 'P6']\n"
   ]
  },
  {
   "cell_type": "code",
   "execution_count": 12,
   "metadata": {},
   "outputs": [],
   "source": [
    "# Multidict function defines the possible time taken by doctors in diagnosing each patient\n",
    "combinations, ms = multidict({\n",
    "\t('D1', 'P1'): 75,\n",
    "\t('D1', 'P2'): 140,\n",
    "\t('D1', 'P3'): 50,\n",
    "\t('D1', 'P4'): 60,\n",
    "\t('D1', 'P5'): 120,\n",
    "\t('D1', 'P6'): 110,\n",
    "\t('D2', 'P1'): 90,\n",
    "\t('D2', 'P2'): 55,\n",
    "\t('D2', 'P3'): 70,\n",
    "\t('D2', 'P4'): 100,\n",
    "\t('D2', 'P5'): 110,\n",
    "\t('D2', 'P6'): 65,\n",
    "\t('D3', 'P1'): 95,\n",
    "\t('D3', 'P2'): 70,\n",
    "\t('D3', 'P3'): 105,\n",
    "\t('D3', 'P4'): 130,\n",
    "\t('D3', 'P5'): 140,\n",
    "\t('D3', 'P6'): 70,\n",
    "\t('D4', 'P1'): 130,\n",
    "\t('D4', 'P2'): 95,\n",
    "\t('D4', 'P3'): 75,\n",
    "\t('D4', 'P4'): 85,\n",
    "\t('D4', 'P5'): 80,\n",
    "\t('D4', 'P6'): 90,\n",
    "\t('D5', 'P1'): 118,\n",
    "\t('D5', 'P2'): 83,\n",
    "\t('D5', 'P3'): 120,\n",
    "\t('D5', 'P4'): 60,\n",
    "\t('D5', 'P5'): 115,\n",
    "\t('D5', 'P6'): 95,\n",
    "\t('D6', 'P1'): 110,\n",
    "\t('D6', 'P2'): 90,\n",
    "\t('D6', 'P3'): 125,\n",
    "\t('D6', 'P4'): 95,\n",
    "\t('D6', 'P5'): 85,\n",
    "\t('D6', 'P6'): 60\n",
    "})"
   ]
  },
  {
   "cell_type": "code",
   "execution_count": 13,
   "metadata": {},
   "outputs": [],
   "source": [
    "# Declaring and intialising the model that will generate an empty model 'm' and takes string 'RAP' model name as its argument\n",
    "m = Model('RAP')"
   ]
  },
  {
   "cell_type": "code",
   "execution_count": 14,
   "metadata": {},
   "outputs": [],
   "source": [
    "# Creating the decision variables for the RAP model\n",
    "x = m.addVars(combinations, name=\"assign\")"
   ]
  },
  {
   "cell_type": "code",
   "execution_count": 15,
   "metadata": {},
   "outputs": [],
   "source": [
    "# creating the Patient constraints where each patient must have one doctor\n",
    "Patients_Constraints = m.addConstrs((x.sum('*',j) == 1 for j in Patients), 'patient')"
   ]
  },
  {
   "cell_type": "code",
   "execution_count": 16,
   "metadata": {},
   "outputs": [],
   "source": [
    "# creating doctor constraints where each doctor must be provided one patient\n",
    "Doctors_Constraints = m.addConstrs((x.sum(r,'*') == 1 for r in Doctors), 'doctor')"
   ]
  },
  {
   "cell_type": "code",
   "execution_count": 17,
   "metadata": {},
   "outputs": [],
   "source": [
    "# the model objective is to assign a patient to a doctor so that time taken to treat a patient is minimzed \n",
    "m.setObjective(x.prod(ms), GRB.MINIMIZE)"
   ]
  },
  {
   "cell_type": "code",
   "execution_count": 18,
   "metadata": {},
   "outputs": [],
   "source": [
    "# saving the model for inspection\n",
    "m.write('RAP.lp')"
   ]
  },
  {
   "cell_type": "code",
   "execution_count": 19,
   "metadata": {},
   "outputs": [
    {
     "name": "stdout",
     "output_type": "stream",
     "text": [
      "Gurobi Optimizer version 9.0.2 build v9.0.2rc0 (win64)\n",
      "Optimize a model with 12 rows, 36 columns and 72 nonzeros\n",
      "Model fingerprint: 0xdf905dae\n",
      "Coefficient statistics:\n",
      "  Matrix range     [1e+00, 1e+00]\n",
      "  Objective range  [5e+01, 1e+02]\n",
      "  Bounds range     [0e+00, 0e+00]\n",
      "  RHS range        [1e+00, 1e+00]\n",
      "Presolve time: 0.02s\n",
      "Presolved: 12 rows, 36 columns, 72 nonzeros\n",
      "\n",
      "Iteration    Objective       Primal Inf.    Dual Inf.      Time\n",
      "       0    3.8000000e+02   2.000000e+00   0.000000e+00      0s\n",
      "       2    4.0000000e+02   0.000000e+00   0.000000e+00      0s\n",
      "\n",
      "Solved in 2 iterations and 0.03 seconds\n",
      "Optimal objective  4.000000000e+02\n"
     ]
    }
   ],
   "source": [
    "# running the optimization engine\n",
    "m.optimize()"
   ]
  },
  {
   "cell_type": "code",
   "execution_count": 20,
   "metadata": {},
   "outputs": [
    {
     "name": "stdout",
     "output_type": "stream",
     "text": [
      "assign[D1,P3] 1.0\n",
      "assign[D2,P2] 1.0\n",
      "assign[D3,P1] 1.0\n",
      "assign[D4,P5] 1.0\n",
      "assign[D5,P4] 1.0\n",
      "assign[D6,P6] 1.0\n",
      "Total Minutes taken 400.0\n"
     ]
    }
   ],
   "source": [
    "# Displaying the optimal values of decision variables\n",
    "for v in m.getVars():\n",
    "    if (abs(v.x) > 1e-6):\n",
    "        print(v.varName, v.x)\n",
    "\n",
    "# displaying the total minutes taken\n",
    "print('Total Minutes taken', m.objVal)"
   ]
  },
  {
   "cell_type": "code",
   "execution_count": null,
   "metadata": {},
   "outputs": [],
   "source": []
  },
  {
   "cell_type": "code",
   "execution_count": null,
   "metadata": {},
   "outputs": [],
   "source": []
  }
 ],
 "metadata": {
  "kernelspec": {
   "display_name": "Python 3",
   "language": "python",
   "name": "python3"
  },
  "language_info": {
   "codemirror_mode": {
    "name": "ipython",
    "version": 3
   },
   "file_extension": ".py",
   "mimetype": "text/x-python",
   "name": "python",
   "nbconvert_exporter": "python",
   "pygments_lexer": "ipython3",
   "version": "3.7.6"
  }
 },
 "nbformat": 4,
 "nbformat_minor": 4
}
